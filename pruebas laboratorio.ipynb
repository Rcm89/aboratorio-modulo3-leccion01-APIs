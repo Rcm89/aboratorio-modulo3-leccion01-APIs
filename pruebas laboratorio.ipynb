{
 "cells": [
  {
   "cell_type": "code",
   "execution_count": null,
   "metadata": {},
   "outputs": [],
   "source": [
    "token=\"fsq3Owo5sLG5GuZi/QkhlBHEGvoG0Vzs9Ut3BuYRcGLXL0c=\""
   ]
  },
  {
   "cell_type": "code",
   "execution_count": null,
   "metadata": {},
   "outputs": [],
   "source": [
    "def obtener_coordenadas(lista_municipios):\n",
    "    # Crear el objeto geolocalizador\n",
    "    geolocator = Nominatim(user_agent=\"geoapiExercises\")\n",
    "\n",
    "    # Lista para almacenar los resultados\n",
    "    resultados = []\n",
    "\n",
    "    # Iterar sobre los municipios\n",
    "    for municipio in lista_municipios:\n",
    "        try:\n",
    "            # Realizar la geocodificación\n",
    "            location = geolocator.geocode(municipio + \", Comunidad de Madrid, España\")\n",
    "\n",
    "            # Si se encuentra la ubicación, almacenar las coordenadas\n",
    "            if location:\n",
    "                resultados.append((municipio, location.latitude, location.longitude))\n",
    "            else:\n",
    "                # Si no se encuentra, añadir un valor None\n",
    "                resultados.append((municipio, None, None))\n",
    "\n",
    "            # Agregar una pausa para no sobrecargar el servicio\n",
    "            time.sleep(1)\n",
    "\n",
    "        except Exception as e:\n",
    "            # Capturar cualquier error\n",
    "            print(f\"Error al obtener las coordenadas para {municipio}: {e}\")\n",
    "            resultados.append((municipio, None, None))\n",
    "\n",
    "    # Crear un DataFrame con los resultados\n",
    "    df_resultados = pd.DataFrame(resultados, columns=[\"Municipio\", \"Latitud\", \"Longitud\"])\n",
    "\n",
    "    return df_resultados\n"
   ]
  }
 ],
 "metadata": {
  "language_info": {
   "name": "python"
  }
 },
 "nbformat": 4,
 "nbformat_minor": 2
}
